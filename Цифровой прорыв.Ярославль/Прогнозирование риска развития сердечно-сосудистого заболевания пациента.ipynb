{
 "cells": [
  {
   "cell_type": "code",
   "execution_count": 1,
   "metadata": {},
   "outputs": [],
   "source": [
    "import pandas as pd\n",
    "import numpy as np\n",
    "import datetime as dt\n",
    "\n",
    "pd.set_option('display.max_columns', 50)  # показывать больше колонок"
   ]
  },
  {
   "cell_type": "code",
   "execution_count": 2,
   "metadata": {},
   "outputs": [],
   "source": [
    "RANDOM_SEED = 42"
   ]
  },
  {
   "cell_type": "code",
   "execution_count": 3,
   "metadata": {},
   "outputs": [],
   "source": [
    "DATA_DIR = ''\n",
    "train = pd.read_csv(DATA_DIR+'train.csv')\n",
    "test = pd.read_csv(DATA_DIR+'test.csv')\n",
    "submission = pd.read_csv(DATA_DIR+'sample_solution.csv')"
   ]
  },
  {
   "cell_type": "code",
   "execution_count": 4,
   "metadata": {},
   "outputs": [
    {
     "name": "stdout",
     "output_type": "stream",
     "text": [
      "<class 'pandas.core.frame.DataFrame'>\n",
      "RangeIndex: 955 entries, 0 to 954\n",
      "Data columns (total 39 columns):\n",
      " #   Column                                 Non-Null Count  Dtype  \n",
      "---  ------                                 --------------  -----  \n",
      " 0   ID                                     955 non-null    object \n",
      " 1   Пол                                    954 non-null    object \n",
      " 2   Семья                                  955 non-null    object \n",
      " 3   Этнос                                  955 non-null    object \n",
      " 4   Национальность                         955 non-null    object \n",
      " 5   Религия                                955 non-null    object \n",
      " 6   Образование                            955 non-null    object \n",
      " 7   Профессия                              955 non-null    object \n",
      " 8   Вы работаете?                          955 non-null    int64  \n",
      " 9   Выход на пенсию                        955 non-null    int64  \n",
      " 10  Прекращение работы по болезни          955 non-null    int64  \n",
      " 11  Сахарный диабет                        955 non-null    int64  \n",
      " 12  Гепатит                                955 non-null    int64  \n",
      " 13  Онкология                              955 non-null    int64  \n",
      " 14  Хроническое заболевание легких         955 non-null    int64  \n",
      " 15  Бронжиальная астма                     955 non-null    int64  \n",
      " 16  Туберкулез легких                      955 non-null    int64  \n",
      " 17  ВИЧ/СПИД                               955 non-null    int64  \n",
      " 18  Регулярный прим лекарственных средств  955 non-null    int64  \n",
      " 19  Травмы за год                          955 non-null    int64  \n",
      " 20  Переломы                               955 non-null    int64  \n",
      " 21  Статус Курения                         955 non-null    object \n",
      " 22  Возраст курения                        412 non-null    float64\n",
      " 23  Сигарет в день                         409 non-null    float64\n",
      " 24  Пассивное курение                      955 non-null    int64  \n",
      " 25  Частота пасс кур                       223 non-null    object \n",
      " 26  Алкоголь                               955 non-null    object \n",
      " 27  Возраст алког                          788 non-null    float64\n",
      " 28  Время засыпания                        955 non-null    object \n",
      " 29  Время пробуждения                      955 non-null    object \n",
      " 30  Сон после обеда                        955 non-null    int64  \n",
      " 31  Спорт, клубы                           955 non-null    int64  \n",
      " 32  Религия, клубы                         955 non-null    int64  \n",
      " 33  ID_y                                   955 non-null    object \n",
      " 34  Артериальная гипертензия               955 non-null    int64  \n",
      " 35  ОНМК                                   955 non-null    int64  \n",
      " 36  Стенокардия, ИБС, инфаркт миокарда     955 non-null    int64  \n",
      " 37  Сердечная недостаточность              955 non-null    int64  \n",
      " 38  Прочие заболевания сердца              955 non-null    int64  \n",
      "dtypes: float64(3), int64(22), object(14)\n",
      "memory usage: 291.1+ KB\n"
     ]
    }
   ],
   "source": [
    "train.info()"
   ]
  },
  {
   "cell_type": "code",
   "execution_count": 5,
   "metadata": {},
   "outputs": [
    {
     "name": "stdout",
     "output_type": "stream",
     "text": [
      "<class 'pandas.core.frame.DataFrame'>\n",
      "RangeIndex: 638 entries, 0 to 637\n",
      "Data columns (total 33 columns):\n",
      " #   Column                                 Non-Null Count  Dtype  \n",
      "---  ------                                 --------------  -----  \n",
      " 0   ID                                     638 non-null    object \n",
      " 1   Пол                                    638 non-null    object \n",
      " 2   Семья                                  638 non-null    object \n",
      " 3   Этнос                                  638 non-null    object \n",
      " 4   Национальность                         638 non-null    object \n",
      " 5   Религия                                638 non-null    object \n",
      " 6   Образование                            638 non-null    object \n",
      " 7   Профессия                              638 non-null    object \n",
      " 8   Вы работаете?                          638 non-null    int64  \n",
      " 9   Выход на пенсию                        638 non-null    int64  \n",
      " 10  Прекращение работы по болезни          638 non-null    int64  \n",
      " 11  Сахарный диабет                        638 non-null    int64  \n",
      " 12  Гепатит                                638 non-null    int64  \n",
      " 13  Онкология                              638 non-null    int64  \n",
      " 14  Хроническое заболевание легких         638 non-null    int64  \n",
      " 15  Бронжиальная астма                     638 non-null    int64  \n",
      " 16  Туберкулез легких                      638 non-null    int64  \n",
      " 17  ВИЧ/СПИД                               638 non-null    int64  \n",
      " 18  Регулярный прим лекарственных средств  638 non-null    int64  \n",
      " 19  Травмы за год                          638 non-null    int64  \n",
      " 20  Переломы                               638 non-null    int64  \n",
      " 21  Статус Курения                         638 non-null    object \n",
      " 22  Возраст курения                        269 non-null    float64\n",
      " 23  Сигарет в день                         265 non-null    float64\n",
      " 24  Пассивное курение                      638 non-null    int64  \n",
      " 25  Частота пасс кур                       154 non-null    object \n",
      " 26  Алкоголь                               638 non-null    object \n",
      " 27  Возраст алког                          501 non-null    float64\n",
      " 28  Время засыпания                        638 non-null    object \n",
      " 29  Время пробуждения                      638 non-null    object \n",
      " 30  Сон после обеда                        638 non-null    int64  \n",
      " 31  Спорт, клубы                           638 non-null    int64  \n",
      " 32  Религия, клубы                         638 non-null    int64  \n",
      "dtypes: float64(3), int64(17), object(13)\n",
      "memory usage: 164.6+ KB\n"
     ]
    }
   ],
   "source": [
    "test.info()"
   ]
  },
  {
   "cell_type": "code",
   "execution_count": 6,
   "metadata": {},
   "outputs": [
    {
     "data": {
      "text/html": [
       "<div>\n",
       "<style scoped>\n",
       "    .dataframe tbody tr th:only-of-type {\n",
       "        vertical-align: middle;\n",
       "    }\n",
       "\n",
       "    .dataframe tbody tr th {\n",
       "        vertical-align: top;\n",
       "    }\n",
       "\n",
       "    .dataframe thead th {\n",
       "        text-align: right;\n",
       "    }\n",
       "</style>\n",
       "<table border=\"1\" class=\"dataframe\">\n",
       "  <thead>\n",
       "    <tr style=\"text-align: right;\">\n",
       "      <th></th>\n",
       "      <th>ID</th>\n",
       "      <th>Пол</th>\n",
       "      <th>Семья</th>\n",
       "      <th>Этнос</th>\n",
       "      <th>Национальность</th>\n",
       "      <th>Религия</th>\n",
       "      <th>Образование</th>\n",
       "      <th>Профессия</th>\n",
       "      <th>Вы работаете?</th>\n",
       "      <th>Выход на пенсию</th>\n",
       "      <th>Прекращение работы по болезни</th>\n",
       "      <th>Сахарный диабет</th>\n",
       "      <th>Гепатит</th>\n",
       "      <th>Онкология</th>\n",
       "      <th>Хроническое заболевание легких</th>\n",
       "      <th>Бронжиальная астма</th>\n",
       "      <th>Туберкулез легких</th>\n",
       "      <th>ВИЧ/СПИД</th>\n",
       "      <th>Регулярный прим лекарственных средств</th>\n",
       "      <th>Травмы за год</th>\n",
       "      <th>Переломы</th>\n",
       "      <th>Статус Курения</th>\n",
       "      <th>Возраст курения</th>\n",
       "      <th>Сигарет в день</th>\n",
       "      <th>Пассивное курение</th>\n",
       "      <th>Частота пасс кур</th>\n",
       "      <th>Алкоголь</th>\n",
       "      <th>Возраст алког</th>\n",
       "      <th>Время засыпания</th>\n",
       "      <th>Время пробуждения</th>\n",
       "      <th>Сон после обеда</th>\n",
       "      <th>Спорт, клубы</th>\n",
       "      <th>Религия, клубы</th>\n",
       "      <th>ID_y</th>\n",
       "      <th>Артериальная гипертензия</th>\n",
       "      <th>ОНМК</th>\n",
       "      <th>Стенокардия, ИБС, инфаркт миокарда</th>\n",
       "      <th>Сердечная недостаточность</th>\n",
       "      <th>Прочие заболевания сердца</th>\n",
       "    </tr>\n",
       "  </thead>\n",
       "  <tbody>\n",
       "    <tr>\n",
       "      <th>539</th>\n",
       "      <td>54-102-230-01</td>\n",
       "      <td>Ж</td>\n",
       "      <td>в браке в настоящее время</td>\n",
       "      <td>европейская</td>\n",
       "      <td>Русские</td>\n",
       "      <td>Христианство</td>\n",
       "      <td>5 - ВУЗ</td>\n",
       "      <td>дипломированные специалисты</td>\n",
       "      <td>1</td>\n",
       "      <td>0</td>\n",
       "      <td>0</td>\n",
       "      <td>0</td>\n",
       "      <td>0</td>\n",
       "      <td>0</td>\n",
       "      <td>0</td>\n",
       "      <td>0</td>\n",
       "      <td>0</td>\n",
       "      <td>0</td>\n",
       "      <td>0</td>\n",
       "      <td>1</td>\n",
       "      <td>1</td>\n",
       "      <td>Никогда не курил(а)</td>\n",
       "      <td>NaN</td>\n",
       "      <td>NaN</td>\n",
       "      <td>0</td>\n",
       "      <td>NaN</td>\n",
       "      <td>употребляю в настоящее время</td>\n",
       "      <td>19.0</td>\n",
       "      <td>00:30:00</td>\n",
       "      <td>06:30:00</td>\n",
       "      <td>0</td>\n",
       "      <td>0</td>\n",
       "      <td>0</td>\n",
       "      <td>54-102-230-01</td>\n",
       "      <td>0</td>\n",
       "      <td>0</td>\n",
       "      <td>0</td>\n",
       "      <td>0</td>\n",
       "      <td>1</td>\n",
       "    </tr>\n",
       "    <tr>\n",
       "      <th>234</th>\n",
       "      <td>54-102-156-02</td>\n",
       "      <td>М</td>\n",
       "      <td>в браке в настоящее время</td>\n",
       "      <td>европейская</td>\n",
       "      <td>Русские</td>\n",
       "      <td>Христианство</td>\n",
       "      <td>5 - ВУЗ</td>\n",
       "      <td>работники,  занятые в сфере обслуживания, торг...</td>\n",
       "      <td>1</td>\n",
       "      <td>0</td>\n",
       "      <td>0</td>\n",
       "      <td>0</td>\n",
       "      <td>0</td>\n",
       "      <td>0</td>\n",
       "      <td>0</td>\n",
       "      <td>0</td>\n",
       "      <td>0</td>\n",
       "      <td>0</td>\n",
       "      <td>0</td>\n",
       "      <td>1</td>\n",
       "      <td>1</td>\n",
       "      <td>Никогда не курил(а)</td>\n",
       "      <td>NaN</td>\n",
       "      <td>NaN</td>\n",
       "      <td>1</td>\n",
       "      <td>2-3 раза в день</td>\n",
       "      <td>употребляю в настоящее время</td>\n",
       "      <td>17.0</td>\n",
       "      <td>02:00:00</td>\n",
       "      <td>10:00:00</td>\n",
       "      <td>0</td>\n",
       "      <td>1</td>\n",
       "      <td>0</td>\n",
       "      <td>54-102-156-02</td>\n",
       "      <td>0</td>\n",
       "      <td>0</td>\n",
       "      <td>0</td>\n",
       "      <td>0</td>\n",
       "      <td>0</td>\n",
       "    </tr>\n",
       "    <tr>\n",
       "      <th>70</th>\n",
       "      <td>54-001-048-02</td>\n",
       "      <td>М</td>\n",
       "      <td>в браке в настоящее время</td>\n",
       "      <td>европейская</td>\n",
       "      <td>Немцы</td>\n",
       "      <td>Атеист / агностик</td>\n",
       "      <td>3 - средняя школа / закон.среднее / выше среднего</td>\n",
       "      <td>операторы и монтажники установок и машинного о...</td>\n",
       "      <td>0</td>\n",
       "      <td>1</td>\n",
       "      <td>0</td>\n",
       "      <td>0</td>\n",
       "      <td>1</td>\n",
       "      <td>0</td>\n",
       "      <td>0</td>\n",
       "      <td>0</td>\n",
       "      <td>0</td>\n",
       "      <td>0</td>\n",
       "      <td>0</td>\n",
       "      <td>0</td>\n",
       "      <td>1</td>\n",
       "      <td>Никогда не курил(а)</td>\n",
       "      <td>NaN</td>\n",
       "      <td>NaN</td>\n",
       "      <td>0</td>\n",
       "      <td>NaN</td>\n",
       "      <td>употребляю в настоящее время</td>\n",
       "      <td>20.0</td>\n",
       "      <td>23:30:00</td>\n",
       "      <td>07:00:00</td>\n",
       "      <td>0</td>\n",
       "      <td>0</td>\n",
       "      <td>0</td>\n",
       "      <td>54-001-048-02</td>\n",
       "      <td>0</td>\n",
       "      <td>0</td>\n",
       "      <td>0</td>\n",
       "      <td>0</td>\n",
       "      <td>0</td>\n",
       "    </tr>\n",
       "    <tr>\n",
       "      <th>554</th>\n",
       "      <td>54-102-124-02</td>\n",
       "      <td>Ж</td>\n",
       "      <td>вдовец / вдова</td>\n",
       "      <td>европейская</td>\n",
       "      <td>Русские</td>\n",
       "      <td>Христианство</td>\n",
       "      <td>4 - профессиональное училище</td>\n",
       "      <td>работники,  занятые в сфере обслуживания, торг...</td>\n",
       "      <td>0</td>\n",
       "      <td>1</td>\n",
       "      <td>0</td>\n",
       "      <td>0</td>\n",
       "      <td>0</td>\n",
       "      <td>0</td>\n",
       "      <td>0</td>\n",
       "      <td>0</td>\n",
       "      <td>0</td>\n",
       "      <td>0</td>\n",
       "      <td>1</td>\n",
       "      <td>0</td>\n",
       "      <td>1</td>\n",
       "      <td>Никогда не курил(а)</td>\n",
       "      <td>NaN</td>\n",
       "      <td>NaN</td>\n",
       "      <td>0</td>\n",
       "      <td>NaN</td>\n",
       "      <td>ранее употреблял</td>\n",
       "      <td>20.0</td>\n",
       "      <td>01:00:00</td>\n",
       "      <td>06:00:00</td>\n",
       "      <td>0</td>\n",
       "      <td>0</td>\n",
       "      <td>0</td>\n",
       "      <td>54-102-124-02</td>\n",
       "      <td>1</td>\n",
       "      <td>0</td>\n",
       "      <td>0</td>\n",
       "      <td>0</td>\n",
       "      <td>0</td>\n",
       "    </tr>\n",
       "    <tr>\n",
       "      <th>379</th>\n",
       "      <td>54-501-093-01</td>\n",
       "      <td>Ж</td>\n",
       "      <td>вдовец / вдова</td>\n",
       "      <td>европейская</td>\n",
       "      <td>Русские</td>\n",
       "      <td>Христианство</td>\n",
       "      <td>3 - средняя школа / закон.среднее / выше среднего</td>\n",
       "      <td>ремесленники и представители других отраслей п...</td>\n",
       "      <td>0</td>\n",
       "      <td>1</td>\n",
       "      <td>0</td>\n",
       "      <td>0</td>\n",
       "      <td>0</td>\n",
       "      <td>0</td>\n",
       "      <td>0</td>\n",
       "      <td>0</td>\n",
       "      <td>0</td>\n",
       "      <td>0</td>\n",
       "      <td>0</td>\n",
       "      <td>0</td>\n",
       "      <td>1</td>\n",
       "      <td>Курит</td>\n",
       "      <td>45.0</td>\n",
       "      <td>10.0</td>\n",
       "      <td>0</td>\n",
       "      <td>NaN</td>\n",
       "      <td>употребляю в настоящее время</td>\n",
       "      <td>45.0</td>\n",
       "      <td>21:00:00</td>\n",
       "      <td>05:00:00</td>\n",
       "      <td>0</td>\n",
       "      <td>0</td>\n",
       "      <td>0</td>\n",
       "      <td>54-501-093-01</td>\n",
       "      <td>1</td>\n",
       "      <td>0</td>\n",
       "      <td>0</td>\n",
       "      <td>0</td>\n",
       "      <td>0</td>\n",
       "    </tr>\n",
       "  </tbody>\n",
       "</table>\n",
       "</div>"
      ],
      "text/plain": [
       "                ID Пол                      Семья        Этнос Национальность  \\\n",
       "539  54-102-230-01   Ж  в браке в настоящее время  европейская        Русские   \n",
       "234  54-102-156-02   М  в браке в настоящее время  европейская        Русские   \n",
       "70   54-001-048-02   М  в браке в настоящее время  европейская          Немцы   \n",
       "554  54-102-124-02   Ж             вдовец / вдова  европейская        Русские   \n",
       "379  54-501-093-01   Ж             вдовец / вдова  европейская        Русские   \n",
       "\n",
       "               Религия                                        Образование  \\\n",
       "539       Христианство                                            5 - ВУЗ   \n",
       "234       Христианство                                            5 - ВУЗ   \n",
       "70   Атеист / агностик  3 - средняя школа / закон.среднее / выше среднего   \n",
       "554       Христианство                       4 - профессиональное училище   \n",
       "379       Христианство  3 - средняя школа / закон.среднее / выше среднего   \n",
       "\n",
       "                                             Профессия  Вы работаете?  \\\n",
       "539                        дипломированные специалисты              1   \n",
       "234  работники,  занятые в сфере обслуживания, торг...              1   \n",
       "70   операторы и монтажники установок и машинного о...              0   \n",
       "554  работники,  занятые в сфере обслуживания, торг...              0   \n",
       "379  ремесленники и представители других отраслей п...              0   \n",
       "\n",
       "     Выход на пенсию  Прекращение работы по болезни  Сахарный диабет  Гепатит  \\\n",
       "539                0                              0                0        0   \n",
       "234                0                              0                0        0   \n",
       "70                 1                              0                0        1   \n",
       "554                1                              0                0        0   \n",
       "379                1                              0                0        0   \n",
       "\n",
       "     Онкология  Хроническое заболевание легких  Бронжиальная астма  \\\n",
       "539          0                               0                   0   \n",
       "234          0                               0                   0   \n",
       "70           0                               0                   0   \n",
       "554          0                               0                   0   \n",
       "379          0                               0                   0   \n",
       "\n",
       "     Туберкулез легких   ВИЧ/СПИД  Регулярный прим лекарственных средств  \\\n",
       "539                   0         0                                      0   \n",
       "234                   0         0                                      0   \n",
       "70                    0         0                                      0   \n",
       "554                   0         0                                      1   \n",
       "379                   0         0                                      0   \n",
       "\n",
       "     Травмы за год  Переломы       Статус Курения  Возраст курения  \\\n",
       "539              1         1  Никогда не курил(а)              NaN   \n",
       "234              1         1  Никогда не курил(а)              NaN   \n",
       "70               0         1  Никогда не курил(а)              NaN   \n",
       "554              0         1  Никогда не курил(а)              NaN   \n",
       "379              0         1                Курит             45.0   \n",
       "\n",
       "     Сигарет в день  Пассивное курение Частота пасс кур  \\\n",
       "539             NaN                  0              NaN   \n",
       "234             NaN                  1  2-3 раза в день   \n",
       "70              NaN                  0              NaN   \n",
       "554             NaN                  0              NaN   \n",
       "379            10.0                  0              NaN   \n",
       "\n",
       "                         Алкоголь  Возраст алког Время засыпания  \\\n",
       "539  употребляю в настоящее время           19.0        00:30:00   \n",
       "234  употребляю в настоящее время           17.0        02:00:00   \n",
       "70   употребляю в настоящее время           20.0        23:30:00   \n",
       "554              ранее употреблял           20.0        01:00:00   \n",
       "379  употребляю в настоящее время           45.0        21:00:00   \n",
       "\n",
       "    Время пробуждения  Сон после обеда  Спорт, клубы  Религия, клубы  \\\n",
       "539          06:30:00                0             0               0   \n",
       "234          10:00:00                0             1               0   \n",
       "70           07:00:00                0             0               0   \n",
       "554          06:00:00                0             0               0   \n",
       "379          05:00:00                0             0               0   \n",
       "\n",
       "              ID_y  Артериальная гипертензия  ОНМК  \\\n",
       "539  54-102-230-01                         0     0   \n",
       "234  54-102-156-02                         0     0   \n",
       "70   54-001-048-02                         0     0   \n",
       "554  54-102-124-02                         1     0   \n",
       "379  54-501-093-01                         1     0   \n",
       "\n",
       "     Стенокардия, ИБС, инфаркт миокарда  Сердечная недостаточность  \\\n",
       "539                                   0                          0   \n",
       "234                                   0                          0   \n",
       "70                                    0                          0   \n",
       "554                                   0                          0   \n",
       "379                                   0                          0   \n",
       "\n",
       "     Прочие заболевания сердца  \n",
       "539                          1  \n",
       "234                          0  \n",
       "70                           0  \n",
       "554                          0  \n",
       "379                          0  "
      ]
     },
     "execution_count": 6,
     "metadata": {},
     "output_type": "execute_result"
    }
   ],
   "source": [
    "train.sample(5)"
   ]
  },
  {
   "cell_type": "code",
   "execution_count": 7,
   "metadata": {},
   "outputs": [
    {
     "data": {
      "text/html": [
       "<div>\n",
       "<style scoped>\n",
       "    .dataframe tbody tr th:only-of-type {\n",
       "        vertical-align: middle;\n",
       "    }\n",
       "\n",
       "    .dataframe tbody tr th {\n",
       "        vertical-align: top;\n",
       "    }\n",
       "\n",
       "    .dataframe thead th {\n",
       "        text-align: right;\n",
       "    }\n",
       "</style>\n",
       "<table border=\"1\" class=\"dataframe\">\n",
       "  <thead>\n",
       "    <tr style=\"text-align: right;\">\n",
       "      <th></th>\n",
       "      <th>ID</th>\n",
       "      <th>Артериальная гипертензия</th>\n",
       "      <th>ОНМК</th>\n",
       "      <th>Стенокардия, ИБС, инфаркт миокарда</th>\n",
       "      <th>Сердечная недостаточность</th>\n",
       "      <th>Прочие заболевания сердца</th>\n",
       "    </tr>\n",
       "  </thead>\n",
       "  <tbody>\n",
       "    <tr>\n",
       "      <th>430</th>\n",
       "      <td>54-101-007-01</td>\n",
       "      <td>0</td>\n",
       "      <td>0</td>\n",
       "      <td>0</td>\n",
       "      <td>0</td>\n",
       "      <td>0</td>\n",
       "    </tr>\n",
       "    <tr>\n",
       "      <th>511</th>\n",
       "      <td>54-701-034-01</td>\n",
       "      <td>0</td>\n",
       "      <td>0</td>\n",
       "      <td>0</td>\n",
       "      <td>0</td>\n",
       "      <td>0</td>\n",
       "    </tr>\n",
       "  </tbody>\n",
       "</table>\n",
       "</div>"
      ],
      "text/plain": [
       "                ID  Артериальная гипертензия  ОНМК  \\\n",
       "430  54-101-007-01                         0     0   \n",
       "511  54-701-034-01                         0     0   \n",
       "\n",
       "     Стенокардия, ИБС, инфаркт миокарда  Сердечная недостаточность  \\\n",
       "430                                   0                          0   \n",
       "511                                   0                          0   \n",
       "\n",
       "     Прочие заболевания сердца  \n",
       "430                          0  \n",
       "511                          0  "
      ]
     },
     "execution_count": 7,
     "metadata": {},
     "output_type": "execute_result"
    }
   ],
   "source": [
    "submission.sample(2)"
   ]
  },
  {
   "cell_type": "code",
   "execution_count": 8,
   "metadata": {},
   "outputs": [],
   "source": [
    "# Заболевания - целевые столбцы\n",
    "illnesses = submission.columns[1:].to_list()"
   ]
  },
  {
   "cell_type": "code",
   "execution_count": 9,
   "metadata": {},
   "outputs": [
    {
     "name": "stdout",
     "output_type": "stream",
     "text": [
      "ID_y\n",
      "Артериальная гипертензия\n",
      "ОНМК\n",
      "Стенокардия, ИБС, инфаркт миокарда\n",
      "Сердечная недостаточность\n",
      "Прочие заболевания сердца\n"
     ]
    }
   ],
   "source": [
    "test_columns = test.columns.to_list()\n",
    "train_columns = train.columns.to_list()\n",
    "# Анпечатаем, каких столбцов нет в тестовом датасете\n",
    "for col in train_columns:\n",
    "    if col not in test_columns:\n",
    "        print(col)"
   ]
  },
  {
   "cell_type": "code",
   "execution_count": 225,
   "metadata": {},
   "outputs": [],
   "source": [
    "# Объединяем данные для обработки\n",
    "\n",
    "train['Train'] = 1 # помечаем трейн\n",
    "test['Train'] = 0 # помечаем тест\n",
    "\n",
    "df = train.append(test, sort=False).reset_index(drop=True)"
   ]
  },
  {
   "cell_type": "code",
   "execution_count": 211,
   "metadata": {},
   "outputs": [
    {
     "data": {
      "text/plain": [
       "Ж      1117\n",
       "М       475\n",
       "NaN       1\n",
       "Name: Пол, dtype: int64"
      ]
     },
     "execution_count": 211,
     "metadata": {},
     "output_type": "execute_result"
    }
   ],
   "source": [
    "df['Пол'].value_counts(dropna=False)"
   ]
  },
  {
   "cell_type": "code",
   "execution_count": 226,
   "metadata": {},
   "outputs": [],
   "source": [
    "# Одна запись в train без пола - удалим её\n",
    "df.drop(df[df['Пол'].isna()].index, inplace=True, axis=0)"
   ]
  },
  {
   "cell_type": "code",
   "execution_count": 71,
   "metadata": {},
   "outputs": [
    {
     "data": {
      "text/plain": [
       "в браке в настоящее время                          937\n",
       "вдовец / вдова                                     246\n",
       "в разводе                                          201\n",
       "гражданский брак / проживание с партнером          128\n",
       "никогда не был(а) в браке                           77\n",
       "раздельное проживание (официально не разведены)      3\n",
       "Name: Семья, dtype: int64"
      ]
     },
     "execution_count": 71,
     "metadata": {},
     "output_type": "execute_result"
    }
   ],
   "source": [
    "df['Семья'].value_counts(dropna=False)"
   ]
  },
  {
   "cell_type": "code",
   "execution_count": 14,
   "metadata": {},
   "outputs": [
    {
     "data": {
      "text/plain": [
       "европейская                                                                                                      1558\n",
       "другая азиатская (Корея, Малайзия, Таиланд, Вьетнам, Казахстан, Киргизия, Туркмения, Узбекистан, Таджикистан)      24\n",
       "прочее (любая иная этно-расовая группа, не представленная выше)                                                    10\n",
       "Name: Этнос, dtype: int64"
      ]
     },
     "execution_count": 14,
     "metadata": {},
     "output_type": "execute_result"
    }
   ],
   "source": [
    "df['Этнос'].value_counts(dropna=False)"
   ]
  },
  {
   "cell_type": "code",
   "execution_count": 15,
   "metadata": {},
   "outputs": [
    {
     "data": {
      "text/plain": [
       "Русские                  1499\n",
       "Татары                     33\n",
       "Украинцы                   10\n",
       "Немцы                      10\n",
       "Чуваши                      9\n",
       "Азербайджанцы               4\n",
       "Армяне                      3\n",
       "Казахи                      3\n",
       "Другие национальности       3\n",
       "Белорусы                    3\n",
       "Мордва                      2\n",
       "Евреи                       2\n",
       "Удмурты                     2\n",
       "Киргизы                     2\n",
       "Таджики                     2\n",
       "Буряты                      1\n",
       "Эстонцы                     1\n",
       "Молдаване                   1\n",
       "Лезгины                     1\n",
       "Башкиры                     1\n",
       "Name: Национальность, dtype: int64"
      ]
     },
     "execution_count": 15,
     "metadata": {},
     "output_type": "execute_result"
    }
   ],
   "source": [
    "df['Национальность'].value_counts(dropna=False)"
   ]
  },
  {
   "cell_type": "code",
   "execution_count": 16,
   "metadata": {},
   "outputs": [
    {
     "data": {
      "text/plain": [
       "Христианство         1361\n",
       "Атеист / агностик     127\n",
       "Нет                    72\n",
       "Ислам                  30\n",
       "Индуизм                 1\n",
       "Другое                  1\n",
       "Name: Религия, dtype: int64"
      ]
     },
     "execution_count": 16,
     "metadata": {},
     "output_type": "execute_result"
    }
   ],
   "source": [
    "df['Религия'].value_counts(dropna=False)"
   ]
  },
  {
   "cell_type": "code",
   "execution_count": 227,
   "metadata": {},
   "outputs": [],
   "source": [
    "df['Религия'] = df['Религия'].apply(lambda x: 'Нет религии' if (x=='Нет' or x=='Индуизм' or x=='Другое') else x)"
   ]
  },
  {
   "cell_type": "code",
   "execution_count": 21,
   "metadata": {},
   "outputs": [
    {
     "data": {
      "text/plain": [
       "4 - профессиональное училище                         757\n",
       "5 - ВУЗ                                              547\n",
       "3 - средняя школа / закон.среднее / выше среднего    278\n",
       "2 - начальная школа                                   10\n",
       "Name: Образование, dtype: int64"
      ]
     },
     "execution_count": 21,
     "metadata": {},
     "output_type": "execute_result"
    }
   ],
   "source": [
    "df['Образование'].value_counts(dropna=False)"
   ]
  },
  {
   "cell_type": "code",
   "execution_count": 22,
   "metadata": {},
   "outputs": [
    {
     "data": {
      "text/plain": [
       "дипломированные специалисты                                                            382\n",
       "низкоквалифицированные работники                                                       225\n",
       "работники,  занятые в сфере обслуживания, торговые работники магазинов и рынков        204\n",
       "ремесленники и представители других отраслей промышленности                            149\n",
       "служащие                                                                               142\n",
       "техники и младшие специалисты                                                          140\n",
       "ведение домашнего хозяйства                                                            133\n",
       "операторы и монтажники установок и машинного оборудования                              128\n",
       "представители   законодат.   органов   власти,  высокопостав. долж.лица и менеджеры     55\n",
       "квалифицированные работники сельского хозяйства и рыболовного                           25\n",
       "вооруженные силы                                                                         9\n",
       "Name: Профессия, dtype: int64"
      ]
     },
     "execution_count": 22,
     "metadata": {},
     "output_type": "execute_result"
    }
   ],
   "source": [
    "df['Профессия'].value_counts(dropna=False)"
   ]
  },
  {
   "cell_type": "code",
   "execution_count": 24,
   "metadata": {},
   "outputs": [
    {
     "data": {
      "text/plain": [
       "1    864\n",
       "0    728\n",
       "Name: Вы работаете?, dtype: int64"
      ]
     },
     "execution_count": 24,
     "metadata": {},
     "output_type": "execute_result"
    }
   ],
   "source": [
    "df['Вы работаете?'].value_counts(dropna=False)"
   ]
  },
  {
   "cell_type": "code",
   "execution_count": 25,
   "metadata": {},
   "outputs": [
    {
     "data": {
      "text/plain": [
       "0    1088\n",
       "1     504\n",
       "Name: Выход на пенсию, dtype: int64"
      ]
     },
     "execution_count": 25,
     "metadata": {},
     "output_type": "execute_result"
    }
   ],
   "source": [
    "df['Выход на пенсию'].value_counts(dropna=False)"
   ]
  },
  {
   "cell_type": "code",
   "execution_count": 26,
   "metadata": {},
   "outputs": [
    {
     "data": {
      "text/plain": [
       "0    1508\n",
       "1      84\n",
       "Name: Прекращение работы по болезни, dtype: int64"
      ]
     },
     "execution_count": 26,
     "metadata": {},
     "output_type": "execute_result"
    }
   ],
   "source": [
    "df['Прекращение работы по болезни'].value_counts(dropna=False)"
   ]
  },
  {
   "cell_type": "code",
   "execution_count": 27,
   "metadata": {},
   "outputs": [
    {
     "data": {
      "text/plain": [
       "0    1440\n",
       "1     152\n",
       "Name: Сахарный диабет, dtype: int64"
      ]
     },
     "execution_count": 27,
     "metadata": {},
     "output_type": "execute_result"
    }
   ],
   "source": [
    "df['Сахарный диабет'].value_counts(dropna=False)"
   ]
  },
  {
   "cell_type": "code",
   "execution_count": 28,
   "metadata": {},
   "outputs": [
    {
     "data": {
      "text/plain": [
       "0    1409\n",
       "1     183\n",
       "Name: Гепатит, dtype: int64"
      ]
     },
     "execution_count": 28,
     "metadata": {},
     "output_type": "execute_result"
    }
   ],
   "source": [
    "df['Гепатит'].value_counts(dropna=False)"
   ]
  },
  {
   "cell_type": "code",
   "execution_count": 29,
   "metadata": {},
   "outputs": [
    {
     "data": {
      "text/plain": [
       "0    1520\n",
       "1      72\n",
       "Name: Онкология, dtype: int64"
      ]
     },
     "execution_count": 29,
     "metadata": {},
     "output_type": "execute_result"
    }
   ],
   "source": [
    "df['Онкология'].value_counts(dropna=False)"
   ]
  },
  {
   "cell_type": "code",
   "execution_count": 31,
   "metadata": {},
   "outputs": [
    {
     "data": {
      "text/plain": [
       "0    1468\n",
       "1     124\n",
       "Name: Хроническое заболевание легких, dtype: int64"
      ]
     },
     "execution_count": 31,
     "metadata": {},
     "output_type": "execute_result"
    }
   ],
   "source": [
    "df['Хроническое заболевание легких'].value_counts(dropna=False)"
   ]
  },
  {
   "cell_type": "code",
   "execution_count": 32,
   "metadata": {},
   "outputs": [
    {
     "data": {
      "text/plain": [
       "0    1529\n",
       "1      63\n",
       "Name: Бронжиальная астма, dtype: int64"
      ]
     },
     "execution_count": 32,
     "metadata": {},
     "output_type": "execute_result"
    }
   ],
   "source": [
    "df['Бронжиальная астма'].value_counts(dropna=False)"
   ]
  },
  {
   "cell_type": "code",
   "execution_count": 34,
   "metadata": {},
   "outputs": [
    {
     "data": {
      "text/plain": [
       "0    1564\n",
       "1      28\n",
       "Name: Туберкулез легких , dtype: int64"
      ]
     },
     "execution_count": 34,
     "metadata": {},
     "output_type": "execute_result"
    }
   ],
   "source": [
    "df['Туберкулез легких '].value_counts(dropna=False)"
   ]
  },
  {
   "cell_type": "code",
   "execution_count": 35,
   "metadata": {},
   "outputs": [
    {
     "data": {
      "text/plain": [
       "0    1590\n",
       "1       2\n",
       "Name: ВИЧ/СПИД, dtype: int64"
      ]
     },
     "execution_count": 35,
     "metadata": {},
     "output_type": "execute_result"
    }
   ],
   "source": [
    "df['ВИЧ/СПИД'].value_counts(dropna=False)"
   ]
  },
  {
   "cell_type": "code",
   "execution_count": 37,
   "metadata": {},
   "outputs": [
    {
     "data": {
      "text/plain": [
       "0    638\n",
       "Name: ВИЧ/СПИД, dtype: int64"
      ]
     },
     "execution_count": 37,
     "metadata": {},
     "output_type": "execute_result"
    }
   ],
   "source": [
    "test['ВИЧ/СПИД'].value_counts(dropna=False)"
   ]
  },
  {
   "cell_type": "code",
   "execution_count": 228,
   "metadata": {},
   "outputs": [],
   "source": [
    "# Поскольку в test всё по нулям, значит данный признак для нас не информативен. Удаляем\n",
    "df.drop('ВИЧ/СПИД', axis=1, inplace=True)"
   ]
  },
  {
   "cell_type": "code",
   "execution_count": 41,
   "metadata": {},
   "outputs": [
    {
     "data": {
      "text/plain": [
       "1    995\n",
       "0    597\n",
       "Name: Регулярный прим лекарственных средств, dtype: int64"
      ]
     },
     "execution_count": 41,
     "metadata": {},
     "output_type": "execute_result"
    }
   ],
   "source": [
    "df['Регулярный прим лекарственных средств'].value_counts(dropna=False)"
   ]
  },
  {
   "cell_type": "code",
   "execution_count": 42,
   "metadata": {},
   "outputs": [
    {
     "data": {
      "text/plain": [
       "0    1507\n",
       "1      85\n",
       "Name: Травмы за год, dtype: int64"
      ]
     },
     "execution_count": 42,
     "metadata": {},
     "output_type": "execute_result"
    }
   ],
   "source": [
    "df['Травмы за год'].value_counts(dropna=False)"
   ]
  },
  {
   "cell_type": "code",
   "execution_count": 43,
   "metadata": {},
   "outputs": [
    {
     "data": {
      "text/plain": [
       "0    1031\n",
       "1     561\n",
       "Name: Переломы, dtype: int64"
      ]
     },
     "execution_count": 43,
     "metadata": {},
     "output_type": "execute_result"
    }
   ],
   "source": [
    "df['Переломы'].value_counts(dropna=False)"
   ]
  },
  {
   "cell_type": "code",
   "execution_count": 44,
   "metadata": {},
   "outputs": [
    {
     "data": {
      "text/plain": [
       "Никогда не курил(а)    911\n",
       "Курит                  359\n",
       "Бросил(а)              321\n",
       "Никогда не курил         1\n",
       "Name: Статус Курения, dtype: int64"
      ]
     },
     "execution_count": 44,
     "metadata": {},
     "output_type": "execute_result"
    }
   ],
   "source": [
    "df['Статус Курения'].value_counts(dropna=False)"
   ]
  },
  {
   "cell_type": "code",
   "execution_count": 229,
   "metadata": {},
   "outputs": [],
   "source": [
    "df['Статус Курения'] = df['Статус Курения'].apply(lambda x: 'Никогда не курил(а)' if x=='Никогда не курил' else x)"
   ]
  },
  {
   "cell_type": "code",
   "execution_count": 56,
   "metadata": {},
   "outputs": [
    {
     "data": {
      "text/plain": [
       "count    680.000000\n",
       "mean      20.273529\n",
       "std        7.940048\n",
       "min        5.000000\n",
       "25%       16.000000\n",
       "50%       18.000000\n",
       "75%       21.000000\n",
       "max       58.000000\n",
       "Name: Возраст курения, dtype: float64"
      ]
     },
     "execution_count": 56,
     "metadata": {},
     "output_type": "execute_result"
    }
   ],
   "source": [
    "df['Возраст курения'].describe()"
   ]
  },
  {
   "cell_type": "code",
   "execution_count": 216,
   "metadata": {},
   "outputs": [
    {
     "data": {
      "text/plain": [
       "NaN     912\n",
       "20.0    111\n",
       "18.0     93\n",
       "16.0     72\n",
       "17.0     66\n",
       "15.0     51\n",
       "19.0     33\n",
       "25.0     31\n",
       "30.0     23\n",
       "14.0     18\n",
       "12.0     15\n",
       "21.0     15\n",
       "22.0     14\n",
       "7.0      13\n",
       "40.0     11\n",
       "24.0     11\n",
       "23.0     10\n",
       "10.0      9\n",
       "13.0      9\n",
       "35.0      9\n",
       "45.0      5\n",
       "6.0       5\n",
       "27.0      5\n",
       "26.0      5\n",
       "8.0       4\n",
       "28.0      4\n",
       "29.0      4\n",
       "50.0      3\n",
       "33.0      3\n",
       "41.0      3\n",
       "36.0      3\n",
       "31.0      2\n",
       "39.0      2\n",
       "47.0      2\n",
       "55.0      1\n",
       "52.0      1\n",
       "38.0      1\n",
       "56.0      1\n",
       "42.0      1\n",
       "32.0      1\n",
       "5.0       1\n",
       "11.0      1\n",
       "54.0      1\n",
       "53.0      1\n",
       "37.0      1\n",
       "44.0      1\n",
       "58.0      1\n",
       "34.0      1\n",
       "51.0      1\n",
       "43.0      1\n",
       "Name: Возраст курения, dtype: int64"
      ]
     },
     "execution_count": 216,
     "metadata": {},
     "output_type": "execute_result"
    }
   ],
   "source": [
    "df['Возраст курения'].value_counts(dropna=False)"
   ]
  },
  {
   "cell_type": "code",
   "execution_count": 76,
   "metadata": {},
   "outputs": [],
   "source": [
    "import math"
   ]
  },
  {
   "cell_type": "code",
   "execution_count": 230,
   "metadata": {},
   "outputs": [],
   "source": [
    "df['Возраст курения'] = df['Возраст курения'].apply(lambda x: 'не курит' if math.isnan(x) else 'до 5 лет' if x<5 else 'до 10 лет' if x<10 else 'до 20 лет' if x<20 else 'до 30 лет' if x<30 else 'более 30 лет')"
   ]
  },
  {
   "cell_type": "code",
   "execution_count": 231,
   "metadata": {},
   "outputs": [
    {
     "data": {
      "text/plain": [
       "не курит        912\n",
       "до 20 лет       367\n",
       "до 30 лет       210\n",
       "более 30 лет     80\n",
       "до 10 лет        23\n",
       "Name: Возраст курения, dtype: int64"
      ]
     },
     "execution_count": 231,
     "metadata": {},
     "output_type": "execute_result"
    }
   ],
   "source": [
    "df['Возраст курения'].value_counts(dropna=False)"
   ]
  },
  {
   "cell_type": "code",
   "execution_count": 219,
   "metadata": {},
   "outputs": [
    {
     "data": {
      "text/plain": [
       "NaN      919\n",
       "20.0     186\n",
       "10.0     139\n",
       "5.0       69\n",
       "15.0      51\n",
       "2.0       28\n",
       "3.0       27\n",
       "30.0      24\n",
       "40.0      23\n",
       "4.0       22\n",
       "1.0       22\n",
       "6.0       19\n",
       "7.0       16\n",
       "12.0      11\n",
       "8.0       10\n",
       "25.0       7\n",
       "60.0       4\n",
       "17.0       2\n",
       "50.0       2\n",
       "18.0       2\n",
       "16.0       2\n",
       "13.0       2\n",
       "11.0       1\n",
       "80.0       1\n",
       "14.0       1\n",
       "180.0      1\n",
       "35.0       1\n",
       "Name: Сигарет в день, dtype: int64"
      ]
     },
     "execution_count": 219,
     "metadata": {},
     "output_type": "execute_result"
    }
   ],
   "source": [
    "df['Сигарет в день'].value_counts(dropna=False)"
   ]
  },
  {
   "cell_type": "code",
   "execution_count": 232,
   "metadata": {},
   "outputs": [],
   "source": [
    "df['Сигарет в день'] = df['Сигарет в день'].apply(lambda x: 'ни одной сигареты' if math.isnan(x) else 'до 5 сигарет' if x<5 else 'до 10 сигарет' if x<10 else 'до 20 сигарет' if x<20 else 'до 30 сигарет' if x<30 else 'до 40 сигарет' if x<40 else 'до 50 сигарет' if x<50 else 'более 50 сигарет')"
   ]
  },
  {
   "cell_type": "code",
   "execution_count": 233,
   "metadata": {},
   "outputs": [
    {
     "data": {
      "text/plain": [
       "ни одной сигареты    919\n",
       "до 20 сигарет        211\n",
       "до 30 сигарет        193\n",
       "до 10 сигарет        114\n",
       "до 5 сигарет          99\n",
       "до 40 сигарет         25\n",
       "до 50 сигарет         23\n",
       "более 50 сигарет       8\n",
       "Name: Сигарет в день, dtype: int64"
      ]
     },
     "execution_count": 233,
     "metadata": {},
     "output_type": "execute_result"
    }
   ],
   "source": [
    "df['Сигарет в день'].value_counts(dropna=False)"
   ]
  },
  {
   "cell_type": "code",
   "execution_count": 90,
   "metadata": {},
   "outputs": [
    {
     "data": {
      "text/plain": [
       "0    1214\n",
       "1     378\n",
       "Name: Пассивное курение, dtype: int64"
      ]
     },
     "execution_count": 90,
     "metadata": {},
     "output_type": "execute_result"
    }
   ],
   "source": [
    "df['Пассивное курение'].value_counts(dropna=False)"
   ]
  },
  {
   "cell_type": "code",
   "execution_count": 222,
   "metadata": {},
   "outputs": [
    {
     "data": {
      "text/plain": [
       "NaN                       1215\n",
       "1-2 раза в неделю          158\n",
       "4 и более раз в день        75\n",
       "2-3 раза в день             59\n",
       "не менее 1 раза в день      47\n",
       "3-6 раз в неделю            38\n",
       "Name: Частота пасс кур, dtype: int64"
      ]
     },
     "execution_count": 222,
     "metadata": {},
     "output_type": "execute_result"
    }
   ],
   "source": [
    "df['Частота пасс кур'].value_counts(dropna=False)"
   ]
  },
  {
   "cell_type": "code",
   "execution_count": 234,
   "metadata": {},
   "outputs": [],
   "source": [
    "df['Частота пасс кур'] = df['Частота пасс кур'].apply(lambda x: 1 if x=='1-2 раза в неделю' else 2 if x=='2-3 раза в день' else 3 if x=='3-6 раз в неделю' else 4 if x=='не менее 1 раза в день' else 5 if x=='4 и более раз в день' else 0)"
   ]
  },
  {
   "cell_type": "code",
   "execution_count": 235,
   "metadata": {},
   "outputs": [
    {
     "data": {
      "text/plain": [
       "0    1215\n",
       "1     158\n",
       "5      75\n",
       "2      59\n",
       "4      47\n",
       "3      38\n",
       "Name: Частота пасс кур, dtype: int64"
      ]
     },
     "execution_count": 235,
     "metadata": {},
     "output_type": "execute_result"
    }
   ],
   "source": [
    "df['Частота пасс кур'].value_counts(dropna=False)"
   ]
  },
  {
   "cell_type": "code",
   "execution_count": 99,
   "metadata": {},
   "outputs": [
    {
     "data": {
      "text/plain": [
       "употребляю в настоящее время    1045\n",
       "никогда не употреблял            300\n",
       "ранее употреблял                 247\n",
       "Name: Алкоголь, dtype: int64"
      ]
     },
     "execution_count": 99,
     "metadata": {},
     "output_type": "execute_result"
    }
   ],
   "source": [
    "df['Алкоголь'].value_counts(dropna=False)"
   ]
  },
  {
   "cell_type": "code",
   "execution_count": 236,
   "metadata": {},
   "outputs": [
    {
     "data": {
      "text/plain": [
       "NaN     304\n",
       "20.0    298\n",
       "18.0    278\n",
       "17.0    131\n",
       "16.0    111\n",
       "25.0     88\n",
       "19.0     66\n",
       "21.0     57\n",
       "15.0     50\n",
       "22.0     42\n",
       "30.0     28\n",
       "23.0     25\n",
       "14.0     18\n",
       "35.0     15\n",
       "24.0     13\n",
       "40.0      8\n",
       "26.0      8\n",
       "12.0      5\n",
       "29.0      5\n",
       "45.0      5\n",
       "27.0      4\n",
       "37.0      4\n",
       "33.0      4\n",
       "13.0      4\n",
       "10.0      3\n",
       "32.0      3\n",
       "50.0      3\n",
       "6.0       2\n",
       "28.0      2\n",
       "48.0      1\n",
       "44.0      1\n",
       "9.0       1\n",
       "46.0      1\n",
       "36.0      1\n",
       "63.0      1\n",
       "43.0      1\n",
       "60.0      1\n",
       "Name: Возраст алког, dtype: int64"
      ]
     },
     "execution_count": 236,
     "metadata": {},
     "output_type": "execute_result"
    }
   ],
   "source": [
    "df['Возраст алког'].value_counts(dropna=False)"
   ]
  },
  {
   "cell_type": "code",
   "execution_count": 237,
   "metadata": {},
   "outputs": [],
   "source": [
    "df['Возраст алког'] = df['Возраст алког'].apply(lambda x: 'не употребляю' if math.isnan(x) else 'до 5 лет' if x<5 else 'до 10 лет' if x<10 else 'до 20 лет' if x<20 else 'до 30 лет' if x<30 else 'более 30 лет')"
   ]
  },
  {
   "cell_type": "code",
   "execution_count": 238,
   "metadata": {},
   "outputs": [
    {
     "data": {
      "text/plain": [
       "до 20 лет        666\n",
       "до 30 лет        542\n",
       "не употребляю    304\n",
       "более 30 лет      77\n",
       "до 10 лет          3\n",
       "Name: Возраст алког, dtype: int64"
      ]
     },
     "execution_count": 238,
     "metadata": {},
     "output_type": "execute_result"
    }
   ],
   "source": [
    "df['Возраст алког'].value_counts(dropna=False)"
   ]
  },
  {
   "cell_type": "code",
   "execution_count": 108,
   "metadata": {},
   "outputs": [
    {
     "data": {
      "text/plain": [
       "23:00:00    518\n",
       "00:00:00    343\n",
       "22:00:00    291\n",
       "01:00:00    112\n",
       "23:30:00     73\n",
       "21:00:00     63\n",
       "22:30:00     62\n",
       "02:00:00     34\n",
       "00:30:00     30\n",
       "21:30:00     22\n",
       "23:59:00      9\n",
       "01:30:00      7\n",
       "23:50:00      6\n",
       "03:00:00      4\n",
       "00:10:00      2\n",
       "02:30:00      2\n",
       "20:00:00      2\n",
       "00:01:00      1\n",
       "04:00:00      1\n",
       "05:00:00      1\n",
       "00:00:30      1\n",
       "21:50:00      1\n",
       "00:05:00      1\n",
       "09:00:00      1\n",
       "20:30:00      1\n",
       "22:23:00      1\n",
       "00:15:00      1\n",
       "01:20:00      1\n",
       "12:00:00      1\n",
       "Name: Время засыпания, dtype: int64"
      ]
     },
     "execution_count": 108,
     "metadata": {},
     "output_type": "execute_result"
    }
   ],
   "source": [
    "df['Время засыпания'].value_counts(dropna=False)"
   ]
  },
  {
   "cell_type": "code",
   "execution_count": 241,
   "metadata": {},
   "outputs": [],
   "source": [
    "df['time_to_bed'] = df['Время засыпания'].apply(lambda x: pd.to_datetime(x) if pd.to_datetime(x).hour < 6 else pd.to_datetime(x) - dt.timedelta(hours=12) if pd.to_datetime(x).hour < 13 else pd.to_datetime(x) - dt.timedelta(days=1))\n",
    "df['time_to_awake'] = pd.to_datetime(df['Время пробуждения'])\n",
    "df['sleep_time'] = df['time_to_awake'] - df['time_to_bed']"
   ]
  },
  {
   "cell_type": "code",
   "execution_count": 242,
   "metadata": {},
   "outputs": [],
   "source": [
    "df['time_to_bed_hour'] = df['time_to_bed'].apply(lambda x: x.hour if x.minute < 30 else x.hour + 1)\n",
    "df['time_to_awake_hour'] = df['time_to_awake'].apply(lambda x: x.hour if x.minute < 30 else x.hour + 1)"
   ]
  },
  {
   "cell_type": "code",
   "execution_count": 243,
   "metadata": {},
   "outputs": [],
   "source": [
    "df.sleep_time = df.sleep_time.apply(lambda x: str(x).split(' ')[-1])\n",
    "df['sleep_time_hour'] = df.sleep_time.apply(lambda x: pd.to_datetime(x).hour if pd.to_datetime(x).minute<30 else pd.to_datetime(x).hour + 1)"
   ]
  },
  {
   "cell_type": "code",
   "execution_count": 244,
   "metadata": {},
   "outputs": [],
   "source": [
    "# Удаляем столбцы со временем, они нам больше не понадобятся\n",
    "df.drop(['Время засыпания', 'time_to_bed', 'Время пробуждения', 'time_to_awake', 'sleep_time'], axis=1, inplace=True)"
   ]
  },
  {
   "cell_type": "code",
   "execution_count": 245,
   "metadata": {},
   "outputs": [],
   "source": [
    "df['after_midmight'] = np.where(df['time_to_bed_hour']<7, 1, 0)"
   ]
  },
  {
   "cell_type": "code",
   "execution_count": 246,
   "metadata": {},
   "outputs": [
    {
     "data": {
      "text/plain": [
       "0    1231\n",
       "1     361\n",
       "Name: Сон после обеда, dtype: int64"
      ]
     },
     "execution_count": 246,
     "metadata": {},
     "output_type": "execute_result"
    }
   ],
   "source": [
    "df['Сон после обеда'].value_counts(dropna=False)"
   ]
  },
  {
   "cell_type": "code",
   "execution_count": 150,
   "metadata": {},
   "outputs": [
    {
     "data": {
      "text/plain": [
       "0    1490\n",
       "1     102\n",
       "Name: Спорт, клубы, dtype: int64"
      ]
     },
     "execution_count": 150,
     "metadata": {},
     "output_type": "execute_result"
    }
   ],
   "source": [
    "df['Спорт, клубы'].value_counts(dropna=False)"
   ]
  },
  {
   "cell_type": "code",
   "execution_count": 151,
   "metadata": {},
   "outputs": [
    {
     "data": {
      "text/plain": [
       "0    1556\n",
       "1      36\n",
       "Name: Религия, клубы, dtype: int64"
      ]
     },
     "execution_count": 151,
     "metadata": {},
     "output_type": "execute_result"
    }
   ],
   "source": [
    "df['Религия, клубы'].value_counts(dropna=False)"
   ]
  },
  {
   "cell_type": "code",
   "execution_count": 247,
   "metadata": {},
   "outputs": [],
   "source": [
    "# Удаляем ID_y, поскольку он дубрилует ID. Не информативен.\n",
    "df.drop('ID_y', axis=1, inplace=True)"
   ]
  },
  {
   "cell_type": "code",
   "execution_count": 248,
   "metadata": {},
   "outputs": [
    {
     "data": {
      "text/plain": [
       "Index(['ID', 'Пол', 'Семья', 'Этнос', 'Национальность', 'Религия',\n",
       "       'Образование', 'Профессия', 'Вы работаете?', 'Выход на пенсию',\n",
       "       'Прекращение работы по болезни', 'Сахарный диабет', 'Гепатит',\n",
       "       'Онкология', 'Хроническое заболевание легких', 'Бронжиальная астма',\n",
       "       'Туберкулез легких ', 'Регулярный прим лекарственных средств',\n",
       "       'Травмы за год', 'Переломы', 'Статус Курения', 'Возраст курения',\n",
       "       'Сигарет в день', 'Пассивное курение', 'Частота пасс кур', 'Алкоголь',\n",
       "       'Возраст алког', 'Сон после обеда', 'Спорт, клубы', 'Религия, клубы',\n",
       "       'Артериальная гипертензия', 'ОНМК',\n",
       "       'Стенокардия, ИБС, инфаркт миокарда', 'Сердечная недостаточность',\n",
       "       'Прочие заболевания сердца', 'Train', 'time_to_bed_hour',\n",
       "       'time_to_awake_hour', 'sleep_time_hour', 'after_midmight'],\n",
       "      dtype='object')"
      ]
     },
     "execution_count": 248,
     "metadata": {},
     "output_type": "execute_result"
    }
   ],
   "source": [
    "df.columns"
   ]
  },
  {
   "cell_type": "code",
   "execution_count": 249,
   "metadata": {},
   "outputs": [],
   "source": [
    "train_data = df[df['Train'] == 1].drop(['Train', 'Артериальная гипертензия', 'ОНМК',\n",
    "       'Стенокардия, ИБС, инфаркт миокарда', 'Сердечная недостаточность',\n",
    "       'Прочие заболевания сердца'], axis=1)\n",
    "test_data = df[df['Train'] == 0].drop(['Train', 'Артериальная гипертензия', 'ОНМК',\n",
    "       'Стенокардия, ИБС, инфаркт миокарда', 'Сердечная недостаточность',\n",
    "       'Прочие заболевания сердца'], axis=1)\n",
    "y= df[df['Train'] == 1][['ID', 'Артериальная гипертензия', 'ОНМК',\n",
    "       'Стенокардия, ИБС, инфаркт миокарда', 'Сердечная недостаточность',\n",
    "       'Прочие заболевания сердца']]"
   ]
  },
  {
   "cell_type": "code",
   "execution_count": 250,
   "metadata": {},
   "outputs": [],
   "source": [
    "y=y.set_index('ID')\n",
    "train_data = train_data.set_index('ID')\n",
    "test_data = test_data.set_index('ID')\n",
    "y_1 = y['Артериальная гипертензия'].copy()\n",
    "y_2 = y['ОНМК'].copy()\n",
    "y_3 = y['Стенокардия, ИБС, инфаркт миокарда'].copy()\n",
    "y_4 = y['Сердечная недостаточность'].copy()\n",
    "y_5 = y['Прочие заболевания сердца'].copy()"
   ]
  },
  {
   "cell_type": "code",
   "execution_count": 163,
   "metadata": {},
   "outputs": [],
   "source": [
    "from sklearn.model_selection import train_test_split"
   ]
  },
  {
   "cell_type": "code",
   "execution_count": 251,
   "metadata": {},
   "outputs": [],
   "source": [
    "# split данных\n",
    "train_1_df, val_1_df, y_1_train, y_1_test = train_test_split(train_data, y_1, test_size=0.15, stratify = y_1, shuffle=True, random_state=RANDOM_SEED)\n",
    "train_2_df, val_2_df, y_2_train, y_2_test = train_test_split(train_data, y_2, test_size=0.15, stratify = y_2, shuffle=True, random_state=RANDOM_SEED)\n",
    "train_3_df, val_3_df, y_3_train, y_3_test = train_test_split(train_data, y_3, test_size=0.15, stratify = y_3, shuffle=True, random_state=RANDOM_SEED)\n",
    "train_4_df, val_4_df, y_4_train, y_4_test = train_test_split(train_data, y_4, test_size=0.15, stratify = y_4, shuffle=True, random_state=RANDOM_SEED)\n",
    "train_5_df, val_5_df, y_5_train, y_5_test = train_test_split(train_data, y_5, test_size=0.15, stratify = y_5, shuffle=True, random_state=RANDOM_SEED)"
   ]
  },
  {
   "cell_type": "code",
   "execution_count": 188,
   "metadata": {},
   "outputs": [],
   "source": [
    "from catboost import CatBoostClassifier"
   ]
  },
  {
   "cell_type": "code",
   "execution_count": 252,
   "metadata": {},
   "outputs": [],
   "source": [
    "cat_features = ['Пол', 'Семья', 'Этнос', 'Национальность', 'Религия', 'Образование',\n",
    "                'Профессия', 'Статус Курения', 'Возраст курения',\n",
    "                'Сигарет в день', 'Алкоголь','Возраст алког']"
   ]
  },
  {
   "cell_type": "code",
   "execution_count": 253,
   "metadata": {},
   "outputs": [],
   "source": [
    "set_dict = {\n",
    "    'ill_1':[train_1_df, val_1_df, y_1_train, y_1_test], \n",
    "    'ill_2':[train_2_df, val_2_df, y_2_train, y_2_test], \n",
    "    'ill_3':[train_3_df, val_3_df, y_3_train, y_3_test], \n",
    "    'ill_4':[train_4_df, val_4_df, y_4_train, y_4_test],\n",
    "    'ill_5':[train_5_df, val_5_df, y_5_train, y_5_test]\n",
    "           }"
   ]
  },
  {
   "cell_type": "code",
   "execution_count": 266,
   "metadata": {},
   "outputs": [
    {
     "data": {
      "text/plain": [
       "0.0    711\n",
       "1.0     99\n",
       "Name: Стенокардия, ИБС, инфаркт миокарда, dtype: int64"
      ]
     },
     "execution_count": 266,
     "metadata": {},
     "output_type": "execute_result"
    }
   ],
   "source": [
    "y_3_train.value_counts()"
   ]
  },
  {
   "cell_type": "code",
   "execution_count": 267,
   "metadata": {},
   "outputs": [
    {
     "data": {
      "text/plain": [
       "0.0    126\n",
       "1.0     18\n",
       "Name: Стенокардия, ИБС, инфаркт миокарда, dtype: int64"
      ]
     },
     "execution_count": 267,
     "metadata": {},
     "output_type": "execute_result"
    }
   ],
   "source": [
    "y_3_test.value_counts()"
   ]
  },
  {
   "cell_type": "code",
   "execution_count": 273,
   "metadata": {},
   "outputs": [
    {
     "name": "stdout",
     "output_type": "stream",
     "text": [
      "0:\tlearn: 0.8627968\ttest: 0.9402985\tbest: 0.9402985 (0)\ttotal: 18.2ms\tremaining: 18.2s\n",
      "500:\tlearn: 0.9973615\ttest: 0.7164179\tbest: 0.9402985 (0)\ttotal: 33s\tremaining: 32.9s\n",
      "999:\tlearn: 1.0000000\ttest: 0.6865672\tbest: 0.9402985 (0)\ttotal: 1m 4s\tremaining: 0us\n",
      "\n",
      "bestTest = 0.9402985075\n",
      "bestIteration = 0\n",
      "\n",
      "Shrink model to first 1 iterations.\n",
      "0:\tlearn: 0.0000000\ttest: 0.0000000\tbest: 0.0000000 (0)\ttotal: 57.4ms\tremaining: 57.3s\n",
      "500:\tlearn: 1.0000000\ttest: 0.0000000\tbest: 0.0000000 (0)\ttotal: 31.9s\tremaining: 31.8s\n",
      "999:\tlearn: 1.0000000\ttest: 0.0000000\tbest: 0.0000000 (0)\ttotal: 1m 13s\tremaining: 0us\n",
      "\n",
      "bestTest = 0\n",
      "bestIteration = 0\n",
      "\n",
      "Shrink model to first 1 iterations.\n",
      "0:\tlearn: 0.0000000\ttest: 0.0000000\tbest: 0.0000000 (0)\ttotal: 19.7ms\tremaining: 19.7s\n",
      "500:\tlearn: 0.9898990\ttest: 0.0000000\tbest: 0.0000000 (0)\ttotal: 46.2s\tremaining: 46.1s\n",
      "999:\tlearn: 1.0000000\ttest: 0.0000000\tbest: 0.0000000 (0)\ttotal: 1m 19s\tremaining: 0us\n",
      "\n",
      "bestTest = 0\n",
      "bestIteration = 0\n",
      "\n",
      "Shrink model to first 1 iterations.\n",
      "0:\tlearn: 0.0000000\ttest: 0.0000000\tbest: 0.0000000 (0)\ttotal: 47ms\tremaining: 47s\n",
      "500:\tlearn: 1.0000000\ttest: 0.0000000\tbest: 0.1428571 (112)\ttotal: 30.3s\tremaining: 30.2s\n",
      "999:\tlearn: 1.0000000\ttest: 0.0000000\tbest: 0.1428571 (112)\ttotal: 1m 3s\tremaining: 0us\n",
      "\n",
      "bestTest = 0.1428571429\n",
      "bestIteration = 112\n",
      "\n",
      "Shrink model to first 113 iterations.\n",
      "0:\tlearn: 0.0136986\ttest: 0.0000000\tbest: 0.0000000 (0)\ttotal: 50.3ms\tremaining: 50.2s\n",
      "500:\tlearn: 0.9863014\ttest: 0.0000000\tbest: 0.0769231 (283)\ttotal: 29.4s\tremaining: 29.3s\n",
      "999:\tlearn: 1.0000000\ttest: 0.0000000\tbest: 0.0769231 (283)\ttotal: 1m\tremaining: 0us\n",
      "\n",
      "bestTest = 0.07692307692\n",
      "bestIteration = 283\n",
      "\n",
      "Shrink model to first 284 iterations.\n",
      "Score по всем заболеваниям:  0.23201574544858125\n"
     ]
    }
   ],
   "source": [
    "i=1\n",
    "score = 0\n",
    "predict_test=test_data.copy()\n",
    "for train_set in set_dict.values():\n",
    "    model_cat = CatBoostClassifier(iterations = 1000,\n",
    "                                  #depth=10,\n",
    "                                  learning_rate = 0.1,\n",
    "                                  random_seed = RANDOM_SEED,\n",
    "                                  eval_metric='Recall',\n",
    "    #                               od_wait=500,\n",
    "    #                               #task_type='GPU',\n",
    "                                  cat_features=cat_features\n",
    "                             )\n",
    "    model_cat.fit(train_set[0], train_set[2],\n",
    "                  cat_features=cat_features,\n",
    "                 eval_set=(train_set[1], train_set[3]),\n",
    "                 verbose_eval=500,\n",
    "                 use_best_model=True,\n",
    "                 #plot=True\n",
    "                 )\n",
    "    score+=model_cat.get_best_score()['validation']['Recall']\n",
    "    predict_test[f'test_predict_{i}'] = model_cat.predict(test_data)\n",
    "    i+=1\n",
    "print('Средний Recall по всем заболеваниям: ', score/5)"
   ]
  },
  {
   "cell_type": "code",
   "execution_count": 282,
   "metadata": {},
   "outputs": [],
   "source": [
    "predict_col = predict_test.columns[-5:].to_list()\n",
    "submit_catboost = predict_test[predict_col].copy()"
   ]
  },
  {
   "cell_type": "code",
   "execution_count": 287,
   "metadata": {},
   "outputs": [
    {
     "data": {
      "text/plain": [
       "['ID',\n",
       " 'Артериальная гипертензия',\n",
       " 'ОНМК',\n",
       " 'Стенокардия, ИБС, инфаркт миокарда',\n",
       " 'Сердечная недостаточность',\n",
       " 'Прочие заболевания сердца']"
      ]
     },
     "execution_count": 287,
     "metadata": {},
     "output_type": "execute_result"
    }
   ],
   "source": [
    "submit_col=['ID', *illnesses]\n",
    "submit_col"
   ]
  },
  {
   "cell_type": "code",
   "execution_count": 294,
   "metadata": {},
   "outputs": [],
   "source": [
    "submit_catboost = submit_catboost.reset_index()\n",
    "submit_catboost.columns = submit_col\n",
    "submit_catboost.to_csv('Cat_Boost.csv', index=False)"
   ]
  },
  {
   "cell_type": "code",
   "execution_count": null,
   "metadata": {},
   "outputs": [],
   "source": []
  },
  {
   "cell_type": "code",
   "execution_count": 255,
   "metadata": {},
   "outputs": [],
   "source": [
    "# from sklearn.metrics import recall_score"
   ]
  },
  {
   "cell_type": "code",
   "execution_count": null,
   "metadata": {},
   "outputs": [],
   "source": [
    "# Метрика в системе\n",
    "\n",
    "# for illness in illnesses:\n",
    "#     try:\n",
    "#         score += recall_score(df_merge[illness + '_x'], df_merge[illness + '_y'], average='macro')\n",
    "#         if math.isnan(score):\n",
    "#             assert False, 'В проверяемом файле некорректные  столбцы для проверки'\n",
    "#     except Exception:\n",
    "#         assert False, 'В проверяемом файле некорректные столбцы для проверки'\n",
    "# try:\n",
    "#     score = score / len(illnesses)\n",
    "# except Exception:\n",
    "#     assert False, 'В проверяемом файле некорректные столбцы для проверки'"
   ]
  },
  {
   "cell_type": "code",
   "execution_count": null,
   "metadata": {},
   "outputs": [],
   "source": []
  },
  {
   "cell_type": "code",
   "execution_count": null,
   "metadata": {},
   "outputs": [],
   "source": [
    "# from csv import writer\n",
    "\n",
    "# with open(fileName, \"w\", encoding = \"utf8\", newline = \"\") as csvFile:\n",
    "#     csvWriter = writer(csvFile, delimiter = \",\")\n",
    "#     csvWriter.writerow([\"ID\", \"Артериальная гипертензия\", \"ОНМК\", \"Стенокардия, ИБС, инфаркт миокарда\", \"Сердечная недостаточность\", \"Прочие заболевания сердца\"])\n",
    "#     for row in data:\n",
    "#         csvWriter.writerow(row)\n",
    "        "
   ]
  }
 ],
 "metadata": {
  "kernelspec": {
   "display_name": "Python 3",
   "language": "python",
   "name": "python3"
  },
  "language_info": {
   "codemirror_mode": {
    "name": "ipython",
    "version": 3
   },
   "file_extension": ".py",
   "mimetype": "text/x-python",
   "name": "python",
   "nbconvert_exporter": "python",
   "pygments_lexer": "ipython3",
   "version": "3.7.4"
  }
 },
 "nbformat": 4,
 "nbformat_minor": 4
}
